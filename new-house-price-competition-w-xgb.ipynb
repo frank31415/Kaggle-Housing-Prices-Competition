{
 "cells": [
  {
   "cell_type": "code",
   "execution_count": 1,
   "id": "301c3343",
   "metadata": {
    "_cell_guid": "b1076dfc-b9ad-4769-8c92-a6c4dae69d19",
    "_uuid": "8f2839f25d086af736a60e9eeb907d3b93b6e0e5",
    "execution": {
     "iopub.execute_input": "2022-05-28T09:12:40.285449Z",
     "iopub.status.busy": "2022-05-28T09:12:40.284631Z",
     "iopub.status.idle": "2022-05-28T09:12:40.293427Z",
     "shell.execute_reply": "2022-05-28T09:12:40.292706Z",
     "shell.execute_reply.started": "2022-05-28T09:10:45.742064Z"
    },
    "papermill": {
     "duration": 0.067833,
     "end_time": "2022-05-28T09:12:40.293604",
     "exception": false,
     "start_time": "2022-05-28T09:12:40.225771",
     "status": "completed"
    },
    "tags": []
   },
   "outputs": [
    {
     "name": "stdout",
     "output_type": "stream",
     "text": [
      "/kaggle/input/home-data-for-ml-course/sample_submission.csv\n",
      "/kaggle/input/home-data-for-ml-course/sample_submission.csv.gz\n",
      "/kaggle/input/home-data-for-ml-course/train.csv.gz\n",
      "/kaggle/input/home-data-for-ml-course/data_description.txt\n",
      "/kaggle/input/home-data-for-ml-course/test.csv.gz\n",
      "/kaggle/input/home-data-for-ml-course/train.csv\n",
      "/kaggle/input/home-data-for-ml-course/test.csv\n"
     ]
    }
   ],
   "source": [
    "# This Python 3 environment comes with many helpful analytics libraries installed\n",
    "# It is defined by the kaggle/python Docker image: https://github.com/kaggle/docker-python\n",
    "# For example, here's several helpful packages to load\n",
    "\n",
    "import numpy as np # linear algebra\n",
    "import pandas as pd # data processing, CSV file I/O (e.g. pd.read_csv)\n",
    "\n",
    "# Input data files are available in the read-only \"../input/\" directory\n",
    "# For example, running this (by clicking run or pressing Shift+Enter) will list all files under the input directory\n",
    "\n",
    "import os\n",
    "for dirname, _, filenames in os.walk('/kaggle/input'):\n",
    "    for filename in filenames:\n",
    "        print(os.path.join(dirname, filename))\n",
    "\n",
    "# You can write up to 20GB to the current directory (/kaggle/working/) that gets preserved as output when you create a version using \"Save & Run All\" \n",
    "# You can also write temporary files to /kaggle/temp/, but they won't be saved outside of the current session"
   ]
  },
  {
   "cell_type": "code",
   "execution_count": 2,
   "id": "290c2b44",
   "metadata": {
    "execution": {
     "iopub.execute_input": "2022-05-28T09:12:40.400326Z",
     "iopub.status.busy": "2022-05-28T09:12:40.399626Z",
     "iopub.status.idle": "2022-05-28T09:12:41.455614Z",
     "shell.execute_reply": "2022-05-28T09:12:41.456181Z",
     "shell.execute_reply.started": "2022-05-28T09:10:46.110427Z"
    },
    "papermill": {
     "duration": 1.111528,
     "end_time": "2022-05-28T09:12:41.456355",
     "exception": false,
     "start_time": "2022-05-28T09:12:40.344827",
     "status": "completed"
    },
    "tags": []
   },
   "outputs": [],
   "source": [
    "from sklearn.model_selection import train_test_split\n",
    "from xgboost import XGBRegressor\n",
    "from sklearn.metrics import mean_squared_error\n",
    "from sklearn.preprocessing import StandardScaler\n",
    "from sklearn.model_selection import cross_val_score\n",
    "from sklearn.metrics import make_scorer"
   ]
  },
  {
   "cell_type": "markdown",
   "id": "eb5d644c",
   "metadata": {
    "papermill": {
     "duration": 0.051067,
     "end_time": "2022-05-28T09:12:41.563441",
     "exception": false,
     "start_time": "2022-05-28T09:12:41.512374",
     "status": "completed"
    },
    "tags": []
   },
   "source": [
    "**Load Data and combine test and train data into 1 DataFrame**"
   ]
  },
  {
   "cell_type": "code",
   "execution_count": 3,
   "id": "3c938432",
   "metadata": {
    "execution": {
     "iopub.execute_input": "2022-05-28T09:12:41.671547Z",
     "iopub.status.busy": "2022-05-28T09:12:41.670871Z",
     "iopub.status.idle": "2022-05-28T09:12:41.756396Z",
     "shell.execute_reply": "2022-05-28T09:12:41.755828Z",
     "shell.execute_reply.started": "2022-05-28T09:10:46.414268Z"
    },
    "papermill": {
     "duration": 0.14203,
     "end_time": "2022-05-28T09:12:41.756538",
     "exception": false,
     "start_time": "2022-05-28T09:12:41.614508",
     "status": "completed"
    },
    "tags": []
   },
   "outputs": [],
   "source": [
    "# Load the data, and separate the target\n",
    "iowa_file_path = \"/kaggle/input/home-data-for-ml-course/train.csv\"\n",
    "train_data = pd.read_csv(iowa_file_path)\n",
    "iowa_file_path = \"/kaggle/input/home-data-for-ml-course/test.csv\"\n",
    "test_data = pd.read_csv(iowa_file_path)\n",
    "\n",
    "df = pd.concat([train_data, test_data])"
   ]
  },
  {
   "cell_type": "markdown",
   "id": "64d7d1dc",
   "metadata": {
    "papermill": {
     "duration": 0.049949,
     "end_time": "2022-05-28T09:12:41.856762",
     "exception": false,
     "start_time": "2022-05-28T09:12:41.806813",
     "status": "completed"
    },
    "tags": []
   },
   "source": [
    "Data exploration:"
   ]
  },
  {
   "cell_type": "code",
   "execution_count": 4,
   "id": "0592e708",
   "metadata": {
    "execution": {
     "iopub.execute_input": "2022-05-28T09:12:41.948823Z",
     "iopub.status.busy": "2022-05-28T09:12:41.948171Z",
     "iopub.status.idle": "2022-05-28T09:12:42.039452Z",
     "shell.execute_reply": "2022-05-28T09:12:42.039987Z",
     "shell.execute_reply.started": "2022-05-28T09:10:46.733953Z"
    },
    "papermill": {
     "duration": 0.133597,
     "end_time": "2022-05-28T09:12:42.040151",
     "exception": false,
     "start_time": "2022-05-28T09:12:41.906554",
     "status": "completed"
    },
    "tags": []
   },
   "outputs": [
    {
     "data": {
      "text/html": [
       "<div>\n",
       "<style scoped>\n",
       "    .dataframe tbody tr th:only-of-type {\n",
       "        vertical-align: middle;\n",
       "    }\n",
       "\n",
       "    .dataframe tbody tr th {\n",
       "        vertical-align: top;\n",
       "    }\n",
       "\n",
       "    .dataframe thead th {\n",
       "        text-align: right;\n",
       "    }\n",
       "</style>\n",
       "<table border=\"1\" class=\"dataframe\">\n",
       "  <thead>\n",
       "    <tr style=\"text-align: right;\">\n",
       "      <th></th>\n",
       "      <th>Id</th>\n",
       "      <th>MSSubClass</th>\n",
       "      <th>LotFrontage</th>\n",
       "      <th>LotArea</th>\n",
       "      <th>OverallQual</th>\n",
       "      <th>OverallCond</th>\n",
       "      <th>YearBuilt</th>\n",
       "      <th>YearRemodAdd</th>\n",
       "      <th>MasVnrArea</th>\n",
       "      <th>BsmtFinSF1</th>\n",
       "      <th>...</th>\n",
       "      <th>WoodDeckSF</th>\n",
       "      <th>OpenPorchSF</th>\n",
       "      <th>EnclosedPorch</th>\n",
       "      <th>3SsnPorch</th>\n",
       "      <th>ScreenPorch</th>\n",
       "      <th>PoolArea</th>\n",
       "      <th>MiscVal</th>\n",
       "      <th>MoSold</th>\n",
       "      <th>YrSold</th>\n",
       "      <th>SalePrice</th>\n",
       "    </tr>\n",
       "  </thead>\n",
       "  <tbody>\n",
       "    <tr>\n",
       "      <th>count</th>\n",
       "      <td>2919.000000</td>\n",
       "      <td>2919.000000</td>\n",
       "      <td>2433.000000</td>\n",
       "      <td>2919.000000</td>\n",
       "      <td>2919.000000</td>\n",
       "      <td>2919.000000</td>\n",
       "      <td>2919.000000</td>\n",
       "      <td>2919.000000</td>\n",
       "      <td>2896.000000</td>\n",
       "      <td>2918.000000</td>\n",
       "      <td>...</td>\n",
       "      <td>2919.000000</td>\n",
       "      <td>2919.000000</td>\n",
       "      <td>2919.000000</td>\n",
       "      <td>2919.000000</td>\n",
       "      <td>2919.000000</td>\n",
       "      <td>2919.000000</td>\n",
       "      <td>2919.000000</td>\n",
       "      <td>2919.000000</td>\n",
       "      <td>2919.000000</td>\n",
       "      <td>1460.000000</td>\n",
       "    </tr>\n",
       "    <tr>\n",
       "      <th>mean</th>\n",
       "      <td>1460.000000</td>\n",
       "      <td>57.137718</td>\n",
       "      <td>69.305795</td>\n",
       "      <td>10168.114080</td>\n",
       "      <td>6.089072</td>\n",
       "      <td>5.564577</td>\n",
       "      <td>1971.312778</td>\n",
       "      <td>1984.264474</td>\n",
       "      <td>102.201312</td>\n",
       "      <td>441.423235</td>\n",
       "      <td>...</td>\n",
       "      <td>93.709832</td>\n",
       "      <td>47.486811</td>\n",
       "      <td>23.098321</td>\n",
       "      <td>2.602261</td>\n",
       "      <td>16.062350</td>\n",
       "      <td>2.251799</td>\n",
       "      <td>50.825968</td>\n",
       "      <td>6.213087</td>\n",
       "      <td>2007.792737</td>\n",
       "      <td>180921.195890</td>\n",
       "    </tr>\n",
       "    <tr>\n",
       "      <th>std</th>\n",
       "      <td>842.787043</td>\n",
       "      <td>42.517628</td>\n",
       "      <td>23.344905</td>\n",
       "      <td>7886.996359</td>\n",
       "      <td>1.409947</td>\n",
       "      <td>1.113131</td>\n",
       "      <td>30.291442</td>\n",
       "      <td>20.894344</td>\n",
       "      <td>179.334253</td>\n",
       "      <td>455.610826</td>\n",
       "      <td>...</td>\n",
       "      <td>126.526589</td>\n",
       "      <td>67.575493</td>\n",
       "      <td>64.244246</td>\n",
       "      <td>25.188169</td>\n",
       "      <td>56.184365</td>\n",
       "      <td>35.663946</td>\n",
       "      <td>567.402211</td>\n",
       "      <td>2.714762</td>\n",
       "      <td>1.314964</td>\n",
       "      <td>79442.502883</td>\n",
       "    </tr>\n",
       "    <tr>\n",
       "      <th>min</th>\n",
       "      <td>1.000000</td>\n",
       "      <td>20.000000</td>\n",
       "      <td>21.000000</td>\n",
       "      <td>1300.000000</td>\n",
       "      <td>1.000000</td>\n",
       "      <td>1.000000</td>\n",
       "      <td>1872.000000</td>\n",
       "      <td>1950.000000</td>\n",
       "      <td>0.000000</td>\n",
       "      <td>0.000000</td>\n",
       "      <td>...</td>\n",
       "      <td>0.000000</td>\n",
       "      <td>0.000000</td>\n",
       "      <td>0.000000</td>\n",
       "      <td>0.000000</td>\n",
       "      <td>0.000000</td>\n",
       "      <td>0.000000</td>\n",
       "      <td>0.000000</td>\n",
       "      <td>1.000000</td>\n",
       "      <td>2006.000000</td>\n",
       "      <td>34900.000000</td>\n",
       "    </tr>\n",
       "    <tr>\n",
       "      <th>25%</th>\n",
       "      <td>730.500000</td>\n",
       "      <td>20.000000</td>\n",
       "      <td>59.000000</td>\n",
       "      <td>7478.000000</td>\n",
       "      <td>5.000000</td>\n",
       "      <td>5.000000</td>\n",
       "      <td>1953.500000</td>\n",
       "      <td>1965.000000</td>\n",
       "      <td>0.000000</td>\n",
       "      <td>0.000000</td>\n",
       "      <td>...</td>\n",
       "      <td>0.000000</td>\n",
       "      <td>0.000000</td>\n",
       "      <td>0.000000</td>\n",
       "      <td>0.000000</td>\n",
       "      <td>0.000000</td>\n",
       "      <td>0.000000</td>\n",
       "      <td>0.000000</td>\n",
       "      <td>4.000000</td>\n",
       "      <td>2007.000000</td>\n",
       "      <td>129975.000000</td>\n",
       "    </tr>\n",
       "    <tr>\n",
       "      <th>50%</th>\n",
       "      <td>1460.000000</td>\n",
       "      <td>50.000000</td>\n",
       "      <td>68.000000</td>\n",
       "      <td>9453.000000</td>\n",
       "      <td>6.000000</td>\n",
       "      <td>5.000000</td>\n",
       "      <td>1973.000000</td>\n",
       "      <td>1993.000000</td>\n",
       "      <td>0.000000</td>\n",
       "      <td>368.500000</td>\n",
       "      <td>...</td>\n",
       "      <td>0.000000</td>\n",
       "      <td>26.000000</td>\n",
       "      <td>0.000000</td>\n",
       "      <td>0.000000</td>\n",
       "      <td>0.000000</td>\n",
       "      <td>0.000000</td>\n",
       "      <td>0.000000</td>\n",
       "      <td>6.000000</td>\n",
       "      <td>2008.000000</td>\n",
       "      <td>163000.000000</td>\n",
       "    </tr>\n",
       "    <tr>\n",
       "      <th>75%</th>\n",
       "      <td>2189.500000</td>\n",
       "      <td>70.000000</td>\n",
       "      <td>80.000000</td>\n",
       "      <td>11570.000000</td>\n",
       "      <td>7.000000</td>\n",
       "      <td>6.000000</td>\n",
       "      <td>2001.000000</td>\n",
       "      <td>2004.000000</td>\n",
       "      <td>164.000000</td>\n",
       "      <td>733.000000</td>\n",
       "      <td>...</td>\n",
       "      <td>168.000000</td>\n",
       "      <td>70.000000</td>\n",
       "      <td>0.000000</td>\n",
       "      <td>0.000000</td>\n",
       "      <td>0.000000</td>\n",
       "      <td>0.000000</td>\n",
       "      <td>0.000000</td>\n",
       "      <td>8.000000</td>\n",
       "      <td>2009.000000</td>\n",
       "      <td>214000.000000</td>\n",
       "    </tr>\n",
       "    <tr>\n",
       "      <th>max</th>\n",
       "      <td>2919.000000</td>\n",
       "      <td>190.000000</td>\n",
       "      <td>313.000000</td>\n",
       "      <td>215245.000000</td>\n",
       "      <td>10.000000</td>\n",
       "      <td>9.000000</td>\n",
       "      <td>2010.000000</td>\n",
       "      <td>2010.000000</td>\n",
       "      <td>1600.000000</td>\n",
       "      <td>5644.000000</td>\n",
       "      <td>...</td>\n",
       "      <td>1424.000000</td>\n",
       "      <td>742.000000</td>\n",
       "      <td>1012.000000</td>\n",
       "      <td>508.000000</td>\n",
       "      <td>576.000000</td>\n",
       "      <td>800.000000</td>\n",
       "      <td>17000.000000</td>\n",
       "      <td>12.000000</td>\n",
       "      <td>2010.000000</td>\n",
       "      <td>755000.000000</td>\n",
       "    </tr>\n",
       "  </tbody>\n",
       "</table>\n",
       "<p>8 rows × 38 columns</p>\n",
       "</div>"
      ],
      "text/plain": [
       "                Id   MSSubClass  LotFrontage        LotArea  OverallQual  \\\n",
       "count  2919.000000  2919.000000  2433.000000    2919.000000  2919.000000   \n",
       "mean   1460.000000    57.137718    69.305795   10168.114080     6.089072   \n",
       "std     842.787043    42.517628    23.344905    7886.996359     1.409947   \n",
       "min       1.000000    20.000000    21.000000    1300.000000     1.000000   \n",
       "25%     730.500000    20.000000    59.000000    7478.000000     5.000000   \n",
       "50%    1460.000000    50.000000    68.000000    9453.000000     6.000000   \n",
       "75%    2189.500000    70.000000    80.000000   11570.000000     7.000000   \n",
       "max    2919.000000   190.000000   313.000000  215245.000000    10.000000   \n",
       "\n",
       "       OverallCond    YearBuilt  YearRemodAdd   MasVnrArea   BsmtFinSF1  ...  \\\n",
       "count  2919.000000  2919.000000   2919.000000  2896.000000  2918.000000  ...   \n",
       "mean      5.564577  1971.312778   1984.264474   102.201312   441.423235  ...   \n",
       "std       1.113131    30.291442     20.894344   179.334253   455.610826  ...   \n",
       "min       1.000000  1872.000000   1950.000000     0.000000     0.000000  ...   \n",
       "25%       5.000000  1953.500000   1965.000000     0.000000     0.000000  ...   \n",
       "50%       5.000000  1973.000000   1993.000000     0.000000   368.500000  ...   \n",
       "75%       6.000000  2001.000000   2004.000000   164.000000   733.000000  ...   \n",
       "max       9.000000  2010.000000   2010.000000  1600.000000  5644.000000  ...   \n",
       "\n",
       "        WoodDeckSF  OpenPorchSF  EnclosedPorch    3SsnPorch  ScreenPorch  \\\n",
       "count  2919.000000  2919.000000    2919.000000  2919.000000  2919.000000   \n",
       "mean     93.709832    47.486811      23.098321     2.602261    16.062350   \n",
       "std     126.526589    67.575493      64.244246    25.188169    56.184365   \n",
       "min       0.000000     0.000000       0.000000     0.000000     0.000000   \n",
       "25%       0.000000     0.000000       0.000000     0.000000     0.000000   \n",
       "50%       0.000000    26.000000       0.000000     0.000000     0.000000   \n",
       "75%     168.000000    70.000000       0.000000     0.000000     0.000000   \n",
       "max    1424.000000   742.000000    1012.000000   508.000000   576.000000   \n",
       "\n",
       "          PoolArea       MiscVal       MoSold       YrSold      SalePrice  \n",
       "count  2919.000000   2919.000000  2919.000000  2919.000000    1460.000000  \n",
       "mean      2.251799     50.825968     6.213087  2007.792737  180921.195890  \n",
       "std      35.663946    567.402211     2.714762     1.314964   79442.502883  \n",
       "min       0.000000      0.000000     1.000000  2006.000000   34900.000000  \n",
       "25%       0.000000      0.000000     4.000000  2007.000000  129975.000000  \n",
       "50%       0.000000      0.000000     6.000000  2008.000000  163000.000000  \n",
       "75%       0.000000      0.000000     8.000000  2009.000000  214000.000000  \n",
       "max     800.000000  17000.000000    12.000000  2010.000000  755000.000000  \n",
       "\n",
       "[8 rows x 38 columns]"
      ]
     },
     "execution_count": 4,
     "metadata": {},
     "output_type": "execute_result"
    }
   ],
   "source": [
    "df.describe()"
   ]
  },
  {
   "cell_type": "code",
   "execution_count": 5,
   "id": "154bb082",
   "metadata": {
    "execution": {
     "iopub.execute_input": "2022-05-28T09:12:42.151066Z",
     "iopub.status.busy": "2022-05-28T09:12:42.150374Z",
     "iopub.status.idle": "2022-05-28T09:12:42.154071Z",
     "shell.execute_reply": "2022-05-28T09:12:42.153559Z",
     "shell.execute_reply.started": "2022-05-28T09:10:47.074179Z"
    },
    "papermill": {
     "duration": 0.061254,
     "end_time": "2022-05-28T09:12:42.154178",
     "exception": false,
     "start_time": "2022-05-28T09:12:42.092924",
     "status": "completed"
    },
    "tags": []
   },
   "outputs": [
    {
     "data": {
      "text/plain": [
       "Index(['Id', 'MSSubClass', 'MSZoning', 'LotFrontage', 'LotArea', 'Street',\n",
       "       'Alley', 'LotShape', 'LandContour', 'Utilities', 'LotConfig',\n",
       "       'LandSlope', 'Neighborhood', 'Condition1', 'Condition2', 'BldgType',\n",
       "       'HouseStyle', 'OverallQual', 'OverallCond', 'YearBuilt', 'YearRemodAdd',\n",
       "       'RoofStyle', 'RoofMatl', 'Exterior1st', 'Exterior2nd', 'MasVnrType',\n",
       "       'MasVnrArea', 'ExterQual', 'ExterCond', 'Foundation', 'BsmtQual',\n",
       "       'BsmtCond', 'BsmtExposure', 'BsmtFinType1', 'BsmtFinSF1',\n",
       "       'BsmtFinType2', 'BsmtFinSF2', 'BsmtUnfSF', 'TotalBsmtSF', 'Heating',\n",
       "       'HeatingQC', 'CentralAir', 'Electrical', '1stFlrSF', '2ndFlrSF',\n",
       "       'LowQualFinSF', 'GrLivArea', 'BsmtFullBath', 'BsmtHalfBath', 'FullBath',\n",
       "       'HalfBath', 'BedroomAbvGr', 'KitchenAbvGr', 'KitchenQual',\n",
       "       'TotRmsAbvGrd', 'Functional', 'Fireplaces', 'FireplaceQu', 'GarageType',\n",
       "       'GarageYrBlt', 'GarageFinish', 'GarageCars', 'GarageArea', 'GarageQual',\n",
       "       'GarageCond', 'PavedDrive', 'WoodDeckSF', 'OpenPorchSF',\n",
       "       'EnclosedPorch', '3SsnPorch', 'ScreenPorch', 'PoolArea', 'PoolQC',\n",
       "       'Fence', 'MiscFeature', 'MiscVal', 'MoSold', 'YrSold', 'SaleType',\n",
       "       'SaleCondition', 'SalePrice'],\n",
       "      dtype='object')"
      ]
     },
     "execution_count": 5,
     "metadata": {},
     "output_type": "execute_result"
    }
   ],
   "source": [
    "df.columns"
   ]
  },
  {
   "cell_type": "markdown",
   "id": "a24510e2",
   "metadata": {
    "papermill": {
     "duration": 0.03426,
     "end_time": "2022-05-28T09:12:42.222073",
     "exception": false,
     "start_time": "2022-05-28T09:12:42.187813",
     "status": "completed"
    },
    "tags": []
   },
   "source": [
    "**Feature engineering**"
   ]
  },
  {
   "cell_type": "markdown",
   "id": "6b8f609d",
   "metadata": {
    "papermill": {
     "duration": 0.032377,
     "end_time": "2022-05-28T09:12:42.287556",
     "exception": false,
     "start_time": "2022-05-28T09:12:42.255179",
     "status": "completed"
    },
    "tags": []
   },
   "source": [
    "It is common knowledge that usually in a city each neighborhood has typically different average price per square feet, which is the first feature we will include:"
   ]
  },
  {
   "cell_type": "code",
   "execution_count": 6,
   "id": "22f09507",
   "metadata": {
    "execution": {
     "iopub.execute_input": "2022-05-28T09:12:42.360390Z",
     "iopub.status.busy": "2022-05-28T09:12:42.359857Z",
     "iopub.status.idle": "2022-05-28T09:12:42.371473Z",
     "shell.execute_reply": "2022-05-28T09:12:42.371883Z",
     "shell.execute_reply.started": "2022-05-28T09:10:47.354378Z"
    },
    "papermill": {
     "duration": 0.051444,
     "end_time": "2022-05-28T09:12:42.372047",
     "exception": false,
     "start_time": "2022-05-28T09:12:42.320603",
     "status": "completed"
    },
    "tags": []
   },
   "outputs": [],
   "source": [
    "#First group by neighborhood and calculate mean sale price for each neighborhood\n",
    "df['NPrice'] = df.groupby(['Neighborhood'])['SalePrice'].transform('mean')\n",
    "\n",
    "#Calculate mean 1st and 2nd floor square foot for each neighborhood\n",
    "df['NSF'] = df.groupby(['Neighborhood'])['1stFlrSF'].transform('mean') + df.groupby(['Neighborhood'])['2ndFlrSF'].transform('mean')\n",
    "\n",
    "#Same for mean LotArea\n",
    "df['NLA'] = df.groupby(['Neighborhood'])['LotArea'].transform('mean')\n",
    "\n",
    "# Next devide the mean Price by mean area to get the average price per square foot for each neighborhood\n",
    "df['NPrice/SF'] = df['NPrice']/df['NSF'] #(df['1stFlrSF']+df['2ndFlrSF'])\n",
    "\n",
    "#Average Price per Lot Area in each Neighborhood\n",
    "df['NPrice/LA'] = df['NPrice']/df['NLA']"
   ]
  },
  {
   "cell_type": "markdown",
   "id": "7bd69e1f",
   "metadata": {
    "papermill": {
     "duration": 0.033281,
     "end_time": "2022-05-28T09:12:42.439037",
     "exception": false,
     "start_time": "2022-05-28T09:12:42.405756",
     "status": "completed"
    },
    "tags": []
   },
   "source": [
    "Next split features into numerical features and categorical features"
   ]
  },
  {
   "cell_type": "code",
   "execution_count": 7,
   "id": "2abb3c32",
   "metadata": {
    "execution": {
     "iopub.execute_input": "2022-05-28T09:12:42.509626Z",
     "iopub.status.busy": "2022-05-28T09:12:42.509132Z",
     "iopub.status.idle": "2022-05-28T09:12:42.517603Z",
     "shell.execute_reply": "2022-05-28T09:12:42.518021Z",
     "shell.execute_reply.started": "2022-05-28T09:10:47.658817Z"
    },
    "papermill": {
     "duration": 0.045014,
     "end_time": "2022-05-28T09:12:42.518156",
     "exception": false,
     "start_time": "2022-05-28T09:12:42.473142",
     "status": "completed"
    },
    "tags": []
   },
   "outputs": [],
   "source": [
    "features = df.select_dtypes('number').columns\n",
    "#features = features.drop('MSSubClass')\n",
    "\n",
    "cat_features = df.select_dtypes('object').columns\n",
    "#cat_features = cat_features.insert(0, 'MSSubClass')"
   ]
  },
  {
   "cell_type": "code",
   "execution_count": 8,
   "id": "d57d3714",
   "metadata": {
    "execution": {
     "iopub.execute_input": "2022-05-28T09:12:42.620163Z",
     "iopub.status.busy": "2022-05-28T09:12:42.619661Z",
     "iopub.status.idle": "2022-05-28T09:12:42.624376Z",
     "shell.execute_reply": "2022-05-28T09:12:42.624813Z",
     "shell.execute_reply.started": "2022-05-28T09:10:47.898483Z"
    },
    "papermill": {
     "duration": 0.061878,
     "end_time": "2022-05-28T09:12:42.624996",
     "exception": false,
     "start_time": "2022-05-28T09:12:42.563118",
     "status": "completed"
    },
    "tags": []
   },
   "outputs": [
    {
     "data": {
      "text/plain": [
       "Index(['Id', 'MSSubClass', 'LotFrontage', 'LotArea', 'OverallQual',\n",
       "       'OverallCond', 'YearBuilt', 'YearRemodAdd', 'MasVnrArea', 'BsmtFinSF1',\n",
       "       'BsmtFinSF2', 'BsmtUnfSF', 'TotalBsmtSF', '1stFlrSF', '2ndFlrSF',\n",
       "       'LowQualFinSF', 'GrLivArea', 'BsmtFullBath', 'BsmtHalfBath', 'FullBath',\n",
       "       'HalfBath', 'BedroomAbvGr', 'KitchenAbvGr', 'TotRmsAbvGrd',\n",
       "       'Fireplaces', 'GarageYrBlt', 'GarageCars', 'GarageArea', 'WoodDeckSF',\n",
       "       'OpenPorchSF', 'EnclosedPorch', '3SsnPorch', 'ScreenPorch', 'PoolArea',\n",
       "       'MiscVal', 'MoSold', 'YrSold', 'SalePrice', 'NPrice', 'NSF', 'NLA',\n",
       "       'NPrice/SF', 'NPrice/LA'],\n",
       "      dtype='object')"
      ]
     },
     "execution_count": 8,
     "metadata": {},
     "output_type": "execute_result"
    }
   ],
   "source": [
    "features"
   ]
  },
  {
   "cell_type": "markdown",
   "id": "52139518",
   "metadata": {
    "papermill": {
     "duration": 0.033844,
     "end_time": "2022-05-28T09:12:42.693926",
     "exception": false,
     "start_time": "2022-05-28T09:12:42.660082",
     "status": "completed"
    },
    "tags": []
   },
   "source": [
    "The features MSSubClass is a categorical feature with categories which are indicated by numbers so I will remove it from the list of numerical features"
   ]
  },
  {
   "cell_type": "code",
   "execution_count": 9,
   "id": "396f5db3",
   "metadata": {
    "execution": {
     "iopub.execute_input": "2022-05-28T09:12:42.763599Z",
     "iopub.status.busy": "2022-05-28T09:12:42.763181Z",
     "iopub.status.idle": "2022-05-28T09:12:42.767161Z",
     "shell.execute_reply": "2022-05-28T09:12:42.767570Z",
     "shell.execute_reply.started": "2022-05-28T09:10:48.038043Z"
    },
    "papermill": {
     "duration": 0.039989,
     "end_time": "2022-05-28T09:12:42.767682",
     "exception": false,
     "start_time": "2022-05-28T09:12:42.727693",
     "status": "completed"
    },
    "tags": []
   },
   "outputs": [],
   "source": [
    "features = features.drop(['MSSubClass'])\n",
    "cat_features = cat_features.insert(0, 'MSSubClass')"
   ]
  },
  {
   "cell_type": "code",
   "execution_count": 10,
   "id": "623284a0",
   "metadata": {
    "execution": {
     "iopub.execute_input": "2022-05-28T09:12:42.837854Z",
     "iopub.status.busy": "2022-05-28T09:12:42.837411Z",
     "iopub.status.idle": "2022-05-28T09:12:42.842565Z",
     "shell.execute_reply": "2022-05-28T09:12:42.843008Z",
     "shell.execute_reply.started": "2022-05-28T09:10:48.294208Z"
    },
    "papermill": {
     "duration": 0.041399,
     "end_time": "2022-05-28T09:12:42.843123",
     "exception": false,
     "start_time": "2022-05-28T09:12:42.801724",
     "status": "completed"
    },
    "tags": []
   },
   "outputs": [
    {
     "data": {
      "text/plain": [
       "Index(['MSSubClass', 'MSZoning', 'Street', 'Alley', 'LotShape', 'LandContour',\n",
       "       'Utilities', 'LotConfig', 'LandSlope', 'Neighborhood', 'Condition1',\n",
       "       'Condition2', 'BldgType', 'HouseStyle', 'RoofStyle', 'RoofMatl',\n",
       "       'Exterior1st', 'Exterior2nd', 'MasVnrType', 'ExterQual', 'ExterCond',\n",
       "       'Foundation', 'BsmtQual', 'BsmtCond', 'BsmtExposure', 'BsmtFinType1',\n",
       "       'BsmtFinType2', 'Heating', 'HeatingQC', 'CentralAir', 'Electrical',\n",
       "       'KitchenQual', 'Functional', 'FireplaceQu', 'GarageType',\n",
       "       'GarageFinish', 'GarageQual', 'GarageCond', 'PavedDrive', 'PoolQC',\n",
       "       'Fence', 'MiscFeature', 'SaleType', 'SaleCondition'],\n",
       "      dtype='object')"
      ]
     },
     "execution_count": 10,
     "metadata": {},
     "output_type": "execute_result"
    }
   ],
   "source": [
    "#These are the categoricl features\n",
    "cat_features"
   ]
  },
  {
   "cell_type": "markdown",
   "id": "aa33077c",
   "metadata": {
    "papermill": {
     "duration": 0.034318,
     "end_time": "2022-05-28T09:12:42.911004",
     "exception": false,
     "start_time": "2022-05-28T09:12:42.876686",
     "status": "completed"
    },
    "tags": []
   },
   "source": [
    "I don't want to include all categorical features since some may not be very imformative so I pick only those I consider important:"
   ]
  },
  {
   "cell_type": "code",
   "execution_count": 11,
   "id": "4ebc3398",
   "metadata": {
    "execution": {
     "iopub.execute_input": "2022-05-28T09:12:42.982649Z",
     "iopub.status.busy": "2022-05-28T09:12:42.982234Z",
     "iopub.status.idle": "2022-05-28T09:12:42.983646Z",
     "shell.execute_reply": "2022-05-28T09:12:42.984076Z",
     "shell.execute_reply.started": "2022-05-28T09:10:48.765877Z"
    },
    "papermill": {
     "duration": 0.039592,
     "end_time": "2022-05-28T09:12:42.984185",
     "exception": false,
     "start_time": "2022-05-28T09:12:42.944593",
     "status": "completed"
    },
    "tags": []
   },
   "outputs": [],
   "source": [
    "add_features = ['MSZoning', 'RoofMatl', 'CentralAir', 'Utilities','Heating', 'Street','HeatingQC','SaleType','SaleCondition',\n",
    "               'Electrical', 'Foundation', 'LotShape']"
   ]
  },
  {
   "cell_type": "markdown",
   "id": "fa427885",
   "metadata": {
    "papermill": {
     "duration": 0.033591,
     "end_time": "2022-05-28T09:12:43.051939",
     "exception": false,
     "start_time": "2022-05-28T09:12:43.018348",
     "status": "completed"
    },
    "tags": []
   },
   "source": [
    "I noticed that 1 datapoint has GarageYrBlt as 2207 which is obviously a mistake and should be 2007, so I fix this in the next"
   ]
  },
  {
   "cell_type": "code",
   "execution_count": 12,
   "id": "ec0208a8",
   "metadata": {
    "execution": {
     "iopub.execute_input": "2022-05-28T09:12:43.123735Z",
     "iopub.status.busy": "2022-05-28T09:12:43.123230Z",
     "iopub.status.idle": "2022-05-28T09:12:43.133719Z",
     "shell.execute_reply": "2022-05-28T09:12:43.134227Z",
     "shell.execute_reply.started": "2022-05-28T09:10:49.237977Z"
    },
    "papermill": {
     "duration": 0.048382,
     "end_time": "2022-05-28T09:12:43.134369",
     "exception": false,
     "start_time": "2022-05-28T09:12:43.085987",
     "status": "completed"
    },
    "tags": []
   },
   "outputs": [
    {
     "data": {
      "text/plain": [
       "count    2760.000000\n",
       "mean     1978.040942\n",
       "std        25.206206\n",
       "min      1895.000000\n",
       "25%      1960.000000\n",
       "50%      1979.000000\n",
       "75%      2002.000000\n",
       "max      2010.000000\n",
       "Name: GarageYrBlt, dtype: float64"
      ]
     },
     "execution_count": 12,
     "metadata": {},
     "output_type": "execute_result"
    }
   ],
   "source": [
    "df[df['GarageYrBlt']==2207]\n",
    "df.loc[df['GarageYrBlt']==2207,'GarageYrBlt'] = 2007\n",
    "\n",
    "df.GarageYrBlt.describe()"
   ]
  },
  {
   "cell_type": "markdown",
   "id": "8476746b",
   "metadata": {
    "papermill": {
     "duration": 0.034234,
     "end_time": "2022-05-28T09:12:43.202819",
     "exception": false,
     "start_time": "2022-05-28T09:12:43.168585",
     "status": "completed"
    },
    "tags": []
   },
   "source": [
    "Next check how many features of those which I picked have missing values"
   ]
  },
  {
   "cell_type": "code",
   "execution_count": 13,
   "id": "057ac7f7",
   "metadata": {
    "execution": {
     "iopub.execute_input": "2022-05-28T09:12:43.274321Z",
     "iopub.status.busy": "2022-05-28T09:12:43.273808Z",
     "iopub.status.idle": "2022-05-28T09:12:43.289554Z",
     "shell.execute_reply": "2022-05-28T09:12:43.289100Z",
     "shell.execute_reply.started": "2022-05-28T09:10:49.539061Z"
    },
    "papermill": {
     "duration": 0.052536,
     "end_time": "2022-05-28T09:12:43.289656",
     "exception": false,
     "start_time": "2022-05-28T09:12:43.237120",
     "status": "completed"
    },
    "tags": []
   },
   "outputs": [
    {
     "name": "stdout",
     "output_type": "stream",
     "text": [
      "Missing numerical features:\n",
      "LotFrontage      486\n",
      "MasVnrArea        23\n",
      "BsmtFinSF1         1\n",
      "BsmtFinSF2         1\n",
      "BsmtUnfSF          1\n",
      "TotalBsmtSF        1\n",
      "BsmtFullBath       2\n",
      "BsmtHalfBath       2\n",
      "GarageYrBlt      159\n",
      "GarageCars         1\n",
      "GarageArea         1\n",
      "SalePrice       1459\n",
      "dtype: int64\n",
      "Missing categorical features:\n",
      "MSZoning      4\n",
      "Utilities     2\n",
      "SaleType      1\n",
      "Electrical    1\n",
      "dtype: int64\n"
     ]
    }
   ],
   "source": [
    "missing_val_count_by_column = (df[features].isnull().sum())\n",
    "print('Missing numerical features:')\n",
    "print(missing_val_count_by_column[missing_val_count_by_column > 0])\n",
    "\n",
    "missing_val_count_by_column = (df[add_features].isnull().sum())\n",
    "print('Missing categorical features:')\n",
    "print(missing_val_count_by_column[missing_val_count_by_column > 0])"
   ]
  },
  {
   "cell_type": "markdown",
   "id": "58059796",
   "metadata": {
    "papermill": {
     "duration": 0.034242,
     "end_time": "2022-05-28T09:12:43.358531",
     "exception": false,
     "start_time": "2022-05-28T09:12:43.324289",
     "status": "completed"
    },
    "tags": []
   },
   "source": [
    "To fill in some missing numerical features I will assume that those that are missing means that the feature does not exist in the house, e.g. if the number of Full Bathrooms in the Basement (BsmtFullBath) is missing I assume that it whould be 0 (i.e. it does not exist). Similiarly if the GarageArea is missing I assume that there is no Garage."
   ]
  },
  {
   "cell_type": "markdown",
   "id": "fc83bd78",
   "metadata": {
    "papermill": {
     "duration": 0.034647,
     "end_time": "2022-05-28T09:12:43.427906",
     "exception": false,
     "start_time": "2022-05-28T09:12:43.393259",
     "status": "completed"
    },
    "tags": []
   },
   "source": [
    "Furthermore it makes sense to combine similiar features like BsmtFullBath, BsmtHalfBath, FullBath and HalfBath into 1 single feature called TotalBaths. Similiarly I combine 1stFlrSF with 2ndFlrSF and TotalBsmtSF into 1 feature called SF. I do the same for PorchSF.\n",
    "\n",
    "Finally I create 1 more feature called PriceEst which will be a naive price estimate based on the mean price per square foot times square foot house area and mean price per lot area times the lot area."
   ]
  },
  {
   "cell_type": "code",
   "execution_count": 14,
   "id": "70a7a5f9",
   "metadata": {
    "execution": {
     "iopub.execute_input": "2022-05-28T09:12:43.501521Z",
     "iopub.status.busy": "2022-05-28T09:12:43.501026Z",
     "iopub.status.idle": "2022-05-28T09:12:43.516453Z",
     "shell.execute_reply": "2022-05-28T09:12:43.516849Z",
     "shell.execute_reply.started": "2022-05-28T09:10:49.838671Z"
    },
    "papermill": {
     "duration": 0.05448,
     "end_time": "2022-05-28T09:12:43.517011",
     "exception": false,
     "start_time": "2022-05-28T09:12:43.462531",
     "status": "completed"
    },
    "tags": []
   },
   "outputs": [],
   "source": [
    "df['BsmtFullBath'] = df['BsmtFullBath'].fillna(0)\n",
    "df['BsmtHalfBath'] = df['BsmtHalfBath'].fillna(0)\n",
    "\n",
    "df['LotFrontage'] = df['LotFrontage'].fillna(0)\n",
    "df['GarageYrBlt'] = df['GarageYrBlt'].fillna(0)\n",
    "df['GarageArea'] = df['GarageArea'].fillna(0)\n",
    "\n",
    "#combine all baths together\n",
    "df['TotalBath'] = df['BsmtFullBath'] + 0.5*df['BsmtHalfBath'] + df['FullBath'] + 0.5*df['HalfBath']\n",
    "#combine all sq ft\n",
    "df['SF'] = (df['1stFlrSF']+df['2ndFlrSF'] + df['TotalBsmtSF'])\n",
    "#combine porch area\n",
    "df['PorchSF'] = df['OpenPorchSF'] + df['EnclosedPorch'] + df['3SsnPorch'] + df['ScreenPorch']\n",
    "##\n",
    "df['PriceEst'] = 0.5*(df['NPrice/SF']*df['SF'] + df['NPrice/LA']*df['LotArea']) + df['MiscVal']\n",
    "\n",
    "\n",
    "#Drop all this features because they won't be used\n",
    "\n",
    "features = features.drop(['MasVnrArea', 'BsmtFinSF1', 'BsmtFinSF2', 'BsmtUnfSF', 'BsmtHalfBath', 'GarageCars', 'TotalBsmtSF',\n",
    "'2ndFlrSF', '1stFlrSF', 'OpenPorchSF', 'EnclosedPorch', '3SsnPorch', 'ScreenPorch', 'BsmtFullBath', 'BsmtHalfBath', 'FullBath',\n",
    "                         'HalfBath', 'MiscVal', 'NPrice/LA'])"
   ]
  },
  {
   "cell_type": "code",
   "execution_count": 15,
   "id": "3ccccb5c",
   "metadata": {
    "execution": {
     "iopub.execute_input": "2022-05-28T09:12:43.611395Z",
     "iopub.status.busy": "2022-05-28T09:12:43.610757Z",
     "iopub.status.idle": "2022-05-28T09:12:43.618527Z",
     "shell.execute_reply": "2022-05-28T09:12:43.618012Z",
     "shell.execute_reply.started": "2022-05-28T09:10:50.140001Z"
    },
    "papermill": {
     "duration": 0.06311,
     "end_time": "2022-05-28T09:12:43.618649",
     "exception": false,
     "start_time": "2022-05-28T09:12:43.555539",
     "status": "completed"
    },
    "tags": []
   },
   "outputs": [
    {
     "name": "stdout",
     "output_type": "stream",
     "text": [
      "Index(['PriceEst', 'PorchSF', 'TotalBath', 'Id', 'LotFrontage', 'LotArea',\n",
      "       'OverallQual', 'OverallCond', 'YearBuilt', 'YearRemodAdd',\n",
      "       'LowQualFinSF', 'GrLivArea', 'BedroomAbvGr', 'KitchenAbvGr',\n",
      "       'TotRmsAbvGrd', 'Fireplaces', 'GarageYrBlt', 'GarageArea', 'WoodDeckSF',\n",
      "       'PoolArea', 'MoSold', 'YrSold', 'SalePrice', 'NPrice', 'NSF', 'NLA',\n",
      "       'NPrice/SF'],\n",
      "      dtype='object')\n"
     ]
    }
   ],
   "source": [
    "#Include new features in the feature list\n",
    "\n",
    "features = features.insert(0, 'TotalBath')\n",
    "features = features.insert(0, 'PorchSF')\n",
    "features = features.insert(0, 'PriceEst')\n",
    "\n",
    "print(features)"
   ]
  },
  {
   "cell_type": "markdown",
   "id": "45e40859",
   "metadata": {
    "papermill": {
     "duration": 0.053356,
     "end_time": "2022-05-28T09:12:43.726070",
     "exception": false,
     "start_time": "2022-05-28T09:12:43.672714",
     "status": "completed"
    },
    "tags": []
   },
   "source": [
    "Next I will transform the features including year like YearBuilt to show how old the house is instead, i.e. if Year built is 2006 then the age is 2010-2006=4. I do this same transformation with YrSold, GarageYrBlt, YearRemodAdd"
   ]
  },
  {
   "cell_type": "code",
   "execution_count": 16,
   "id": "7d5589d0",
   "metadata": {
    "execution": {
     "iopub.execute_input": "2022-05-28T09:12:43.840266Z",
     "iopub.status.busy": "2022-05-28T09:12:43.839605Z",
     "iopub.status.idle": "2022-05-28T09:12:43.842253Z",
     "shell.execute_reply": "2022-05-28T09:12:43.842823Z",
     "shell.execute_reply.started": "2022-05-28T09:10:50.428768Z"
    },
    "papermill": {
     "duration": 0.063645,
     "end_time": "2022-05-28T09:12:43.843007",
     "exception": false,
     "start_time": "2022-05-28T09:12:43.779362",
     "status": "completed"
    },
    "tags": []
   },
   "outputs": [],
   "source": [
    "#features with year:\n",
    "#transform to indicate how many years passed since, YearBuilt, YearRemodAdded, GarageYrBlt, YrSold\n",
    "df['YearBuilt'] = 2010 - df['YearBuilt'] #--> age of building\n",
    "df['YearRemodAdd'] = 2010 - df['YearRemodAdd']\n",
    "df['GarageYrBlt'] = 2010 - df['GarageYrBlt']\n",
    "df['YrSold'] = 2010 - df['YrSold']"
   ]
  },
  {
   "cell_type": "markdown",
   "id": "7f47b1ac",
   "metadata": {
    "papermill": {
     "duration": 0.053095,
     "end_time": "2022-05-28T09:12:43.949603",
     "exception": false,
     "start_time": "2022-05-28T09:12:43.896508",
     "status": "completed"
    },
    "tags": []
   },
   "source": [
    "Include 1 more feature which give the average price per MSSubClass, which indicates the type of building which has big impact on its price"
   ]
  },
  {
   "cell_type": "code",
   "execution_count": 17,
   "id": "1e4df466",
   "metadata": {
    "execution": {
     "iopub.execute_input": "2022-05-28T09:12:44.058923Z",
     "iopub.status.busy": "2022-05-28T09:12:44.058358Z",
     "iopub.status.idle": "2022-05-28T09:12:44.063914Z",
     "shell.execute_reply": "2022-05-28T09:12:44.064476Z",
     "shell.execute_reply.started": "2022-05-28T09:10:50.714574Z"
    },
    "papermill": {
     "duration": 0.06184,
     "end_time": "2022-05-28T09:12:44.064605",
     "exception": false,
     "start_time": "2022-05-28T09:12:44.002765",
     "status": "completed"
    },
    "tags": []
   },
   "outputs": [],
   "source": [
    "df['MSSubClassPrice'] = df.groupby(['MSSubClass'])['SalePrice'].transform('mean')\n",
    "\n",
    "features = features.insert(0, 'MSSubClassPrice')"
   ]
  },
  {
   "cell_type": "markdown",
   "id": "8092d11a",
   "metadata": {
    "papermill": {
     "duration": 0.052677,
     "end_time": "2022-05-28T09:12:44.170195",
     "exception": false,
     "start_time": "2022-05-28T09:12:44.117518",
     "status": "completed"
    },
    "tags": []
   },
   "source": [
    "Add all additional features into the list of features"
   ]
  },
  {
   "cell_type": "code",
   "execution_count": 18,
   "id": "99b6ea8a",
   "metadata": {
    "execution": {
     "iopub.execute_input": "2022-05-28T09:12:44.280529Z",
     "iopub.status.busy": "2022-05-28T09:12:44.279859Z",
     "iopub.status.idle": "2022-05-28T09:12:44.285572Z",
     "shell.execute_reply": "2022-05-28T09:12:44.286118Z",
     "shell.execute_reply.started": "2022-05-28T09:10:50.986509Z"
    },
    "papermill": {
     "duration": 0.06233,
     "end_time": "2022-05-28T09:12:44.286267",
     "exception": false,
     "start_time": "2022-05-28T09:12:44.223937",
     "status": "completed"
    },
    "tags": []
   },
   "outputs": [],
   "source": [
    "for i in add_features:\n",
    "    features = features.insert(0, i)"
   ]
  },
  {
   "cell_type": "code",
   "execution_count": 19,
   "id": "269cc2ec",
   "metadata": {
    "execution": {
     "iopub.execute_input": "2022-05-28T09:12:44.396066Z",
     "iopub.status.busy": "2022-05-28T09:12:44.395460Z",
     "iopub.status.idle": "2022-05-28T09:12:44.508336Z",
     "shell.execute_reply": "2022-05-28T09:12:44.507763Z",
     "shell.execute_reply.started": "2022-05-28T09:10:51.299129Z"
    },
    "papermill": {
     "duration": 0.168795,
     "end_time": "2022-05-28T09:12:44.508468",
     "exception": false,
     "start_time": "2022-05-28T09:12:44.339673",
     "status": "completed"
    },
    "tags": []
   },
   "outputs": [
    {
     "data": {
      "text/html": [
       "<div>\n",
       "<style scoped>\n",
       "    .dataframe tbody tr th:only-of-type {\n",
       "        vertical-align: middle;\n",
       "    }\n",
       "\n",
       "    .dataframe tbody tr th {\n",
       "        vertical-align: top;\n",
       "    }\n",
       "\n",
       "    .dataframe thead th {\n",
       "        text-align: right;\n",
       "    }\n",
       "</style>\n",
       "<table border=\"1\" class=\"dataframe\">\n",
       "  <thead>\n",
       "    <tr style=\"text-align: right;\">\n",
       "      <th></th>\n",
       "      <th>Id</th>\n",
       "      <th>MSSubClass</th>\n",
       "      <th>LotFrontage</th>\n",
       "      <th>LotArea</th>\n",
       "      <th>OverallQual</th>\n",
       "      <th>OverallCond</th>\n",
       "      <th>YearBuilt</th>\n",
       "      <th>YearRemodAdd</th>\n",
       "      <th>MasVnrArea</th>\n",
       "      <th>BsmtFinSF1</th>\n",
       "      <th>...</th>\n",
       "      <th>NPrice</th>\n",
       "      <th>NSF</th>\n",
       "      <th>NLA</th>\n",
       "      <th>NPrice/SF</th>\n",
       "      <th>NPrice/LA</th>\n",
       "      <th>TotalBath</th>\n",
       "      <th>SF</th>\n",
       "      <th>PorchSF</th>\n",
       "      <th>PriceEst</th>\n",
       "      <th>MSSubClassPrice</th>\n",
       "    </tr>\n",
       "  </thead>\n",
       "  <tbody>\n",
       "    <tr>\n",
       "      <th>count</th>\n",
       "      <td>2919.000000</td>\n",
       "      <td>2919.000000</td>\n",
       "      <td>2919.000000</td>\n",
       "      <td>2919.000000</td>\n",
       "      <td>2919.000000</td>\n",
       "      <td>2919.000000</td>\n",
       "      <td>2919.000000</td>\n",
       "      <td>2919.000000</td>\n",
       "      <td>2896.000000</td>\n",
       "      <td>2918.000000</td>\n",
       "      <td>...</td>\n",
       "      <td>2919.000000</td>\n",
       "      <td>2919.000000</td>\n",
       "      <td>2919.000000</td>\n",
       "      <td>2919.000000</td>\n",
       "      <td>2919.000000</td>\n",
       "      <td>2919.000000</td>\n",
       "      <td>2918.000000</td>\n",
       "      <td>2919.000000</td>\n",
       "      <td>2.918000e+03</td>\n",
       "      <td>2918.000000</td>\n",
       "    </tr>\n",
       "    <tr>\n",
       "      <th>mean</th>\n",
       "      <td>1460.000000</td>\n",
       "      <td>57.137718</td>\n",
       "      <td>57.766701</td>\n",
       "      <td>10168.114080</td>\n",
       "      <td>6.089072</td>\n",
       "      <td>5.564577</td>\n",
       "      <td>38.687222</td>\n",
       "      <td>25.735526</td>\n",
       "      <td>102.201312</td>\n",
       "      <td>441.423235</td>\n",
       "      <td>...</td>\n",
       "      <td>179951.593799</td>\n",
       "      <td>1496.065433</td>\n",
       "      <td>10168.114080</td>\n",
       "      <td>117.960606</td>\n",
       "      <td>19.221707</td>\n",
       "      <td>2.218397</td>\n",
       "      <td>2548.048663</td>\n",
       "      <td>89.249743</td>\n",
       "      <td>2.442047e+05</td>\n",
       "      <td>180450.485934</td>\n",
       "    </tr>\n",
       "    <tr>\n",
       "      <th>std</th>\n",
       "      <td>842.787043</td>\n",
       "      <td>42.517628</td>\n",
       "      <td>33.481636</td>\n",
       "      <td>7886.996359</td>\n",
       "      <td>1.409947</td>\n",
       "      <td>1.113131</td>\n",
       "      <td>30.291442</td>\n",
       "      <td>20.894344</td>\n",
       "      <td>179.334253</td>\n",
       "      <td>455.610826</td>\n",
       "      <td>...</td>\n",
       "      <td>59002.154605</td>\n",
       "      <td>269.602824</td>\n",
       "      <td>3104.864682</td>\n",
       "      <td>19.816110</td>\n",
       "      <td>9.039221</td>\n",
       "      <td>0.808840</td>\n",
       "      <td>804.677866</td>\n",
       "      <td>107.902805</td>\n",
       "      <td>1.120620e+05</td>\n",
       "      <td>39014.840915</td>\n",
       "    </tr>\n",
       "    <tr>\n",
       "      <th>min</th>\n",
       "      <td>1.000000</td>\n",
       "      <td>20.000000</td>\n",
       "      <td>0.000000</td>\n",
       "      <td>1300.000000</td>\n",
       "      <td>1.000000</td>\n",
       "      <td>1.000000</td>\n",
       "      <td>0.000000</td>\n",
       "      <td>0.000000</td>\n",
       "      <td>0.000000</td>\n",
       "      <td>0.000000</td>\n",
       "      <td>...</td>\n",
       "      <td>98576.470588</td>\n",
       "      <td>1066.702703</td>\n",
       "      <td>1840.633333</td>\n",
       "      <td>84.917986</td>\n",
       "      <td>8.556609</td>\n",
       "      <td>1.000000</td>\n",
       "      <td>334.000000</td>\n",
       "      <td>0.000000</td>\n",
       "      <td>6.178848e+04</td>\n",
       "      <td>95829.724638</td>\n",
       "    </tr>\n",
       "    <tr>\n",
       "      <th>25%</th>\n",
       "      <td>730.500000</td>\n",
       "      <td>20.000000</td>\n",
       "      <td>43.000000</td>\n",
       "      <td>7478.000000</td>\n",
       "      <td>5.000000</td>\n",
       "      <td>5.000000</td>\n",
       "      <td>9.000000</td>\n",
       "      <td>6.000000</td>\n",
       "      <td>0.000000</td>\n",
       "      <td>0.000000</td>\n",
       "      <td>...</td>\n",
       "      <td>136793.135135</td>\n",
       "      <td>1288.516930</td>\n",
       "      <td>8826.473118</td>\n",
       "      <td>101.480404</td>\n",
       "      <td>14.527033</td>\n",
       "      <td>1.500000</td>\n",
       "      <td>2000.500000</td>\n",
       "      <td>0.000000</td>\n",
       "      <td>1.699894e+05</td>\n",
       "      <td>143302.972222</td>\n",
       "    </tr>\n",
       "    <tr>\n",
       "      <th>50%</th>\n",
       "      <td>1460.000000</td>\n",
       "      <td>50.000000</td>\n",
       "      <td>63.000000</td>\n",
       "      <td>9453.000000</td>\n",
       "      <td>6.000000</td>\n",
       "      <td>5.000000</td>\n",
       "      <td>37.000000</td>\n",
       "      <td>17.000000</td>\n",
       "      <td>0.000000</td>\n",
       "      <td>368.500000</td>\n",
       "      <td>...</td>\n",
       "      <td>156270.122449</td>\n",
       "      <td>1415.497908</td>\n",
       "      <td>10039.702032</td>\n",
       "      <td>115.797707</td>\n",
       "      <td>16.211200</td>\n",
       "      <td>2.000000</td>\n",
       "      <td>2450.000000</td>\n",
       "      <td>50.000000</td>\n",
       "      <td>2.205196e+05</td>\n",
       "      <td>185224.811567</td>\n",
       "    </tr>\n",
       "    <tr>\n",
       "      <th>75%</th>\n",
       "      <td>2189.500000</td>\n",
       "      <td>70.000000</td>\n",
       "      <td>78.000000</td>\n",
       "      <td>11570.000000</td>\n",
       "      <td>7.000000</td>\n",
       "      <td>6.000000</td>\n",
       "      <td>56.500000</td>\n",
       "      <td>45.000000</td>\n",
       "      <td>164.000000</td>\n",
       "      <td>733.000000</td>\n",
       "      <td>...</td>\n",
       "      <td>197965.773333</td>\n",
       "      <td>1620.575758</td>\n",
       "      <td>11342.369697</td>\n",
       "      <td>132.319462</td>\n",
       "      <td>19.797067</td>\n",
       "      <td>2.500000</td>\n",
       "      <td>2991.750000</td>\n",
       "      <td>136.000000</td>\n",
       "      <td>2.887254e+05</td>\n",
       "      <td>200779.080460</td>\n",
       "    </tr>\n",
       "    <tr>\n",
       "      <th>max</th>\n",
       "      <td>2919.000000</td>\n",
       "      <td>190.000000</td>\n",
       "      <td>313.000000</td>\n",
       "      <td>215245.000000</td>\n",
       "      <td>10.000000</td>\n",
       "      <td>9.000000</td>\n",
       "      <td>138.000000</td>\n",
       "      <td>60.000000</td>\n",
       "      <td>1600.000000</td>\n",
       "      <td>5644.000000</td>\n",
       "      <td>...</td>\n",
       "      <td>335295.317073</td>\n",
       "      <td>2480.633803</td>\n",
       "      <td>24842.250000</td>\n",
       "      <td>162.804667</td>\n",
       "      <td>58.597912</td>\n",
       "      <td>7.000000</td>\n",
       "      <td>11752.000000</td>\n",
       "      <td>1207.000000</td>\n",
       "      <td>1.724567e+06</td>\n",
       "      <td>239948.501672</td>\n",
       "    </tr>\n",
       "  </tbody>\n",
       "</table>\n",
       "<p>8 rows × 48 columns</p>\n",
       "</div>"
      ],
      "text/plain": [
       "                Id   MSSubClass  LotFrontage        LotArea  OverallQual  \\\n",
       "count  2919.000000  2919.000000  2919.000000    2919.000000  2919.000000   \n",
       "mean   1460.000000    57.137718    57.766701   10168.114080     6.089072   \n",
       "std     842.787043    42.517628    33.481636    7886.996359     1.409947   \n",
       "min       1.000000    20.000000     0.000000    1300.000000     1.000000   \n",
       "25%     730.500000    20.000000    43.000000    7478.000000     5.000000   \n",
       "50%    1460.000000    50.000000    63.000000    9453.000000     6.000000   \n",
       "75%    2189.500000    70.000000    78.000000   11570.000000     7.000000   \n",
       "max    2919.000000   190.000000   313.000000  215245.000000    10.000000   \n",
       "\n",
       "       OverallCond    YearBuilt  YearRemodAdd   MasVnrArea   BsmtFinSF1  ...  \\\n",
       "count  2919.000000  2919.000000   2919.000000  2896.000000  2918.000000  ...   \n",
       "mean      5.564577    38.687222     25.735526   102.201312   441.423235  ...   \n",
       "std       1.113131    30.291442     20.894344   179.334253   455.610826  ...   \n",
       "min       1.000000     0.000000      0.000000     0.000000     0.000000  ...   \n",
       "25%       5.000000     9.000000      6.000000     0.000000     0.000000  ...   \n",
       "50%       5.000000    37.000000     17.000000     0.000000   368.500000  ...   \n",
       "75%       6.000000    56.500000     45.000000   164.000000   733.000000  ...   \n",
       "max       9.000000   138.000000     60.000000  1600.000000  5644.000000  ...   \n",
       "\n",
       "              NPrice          NSF           NLA    NPrice/SF    NPrice/LA  \\\n",
       "count    2919.000000  2919.000000   2919.000000  2919.000000  2919.000000   \n",
       "mean   179951.593799  1496.065433  10168.114080   117.960606    19.221707   \n",
       "std     59002.154605   269.602824   3104.864682    19.816110     9.039221   \n",
       "min     98576.470588  1066.702703   1840.633333    84.917986     8.556609   \n",
       "25%    136793.135135  1288.516930   8826.473118   101.480404    14.527033   \n",
       "50%    156270.122449  1415.497908  10039.702032   115.797707    16.211200   \n",
       "75%    197965.773333  1620.575758  11342.369697   132.319462    19.797067   \n",
       "max    335295.317073  2480.633803  24842.250000   162.804667    58.597912   \n",
       "\n",
       "         TotalBath            SF      PorchSF      PriceEst  MSSubClassPrice  \n",
       "count  2919.000000   2918.000000  2919.000000  2.918000e+03      2918.000000  \n",
       "mean      2.218397   2548.048663    89.249743  2.442047e+05    180450.485934  \n",
       "std       0.808840    804.677866   107.902805  1.120620e+05     39014.840915  \n",
       "min       1.000000    334.000000     0.000000  6.178848e+04     95829.724638  \n",
       "25%       1.500000   2000.500000     0.000000  1.699894e+05    143302.972222  \n",
       "50%       2.000000   2450.000000    50.000000  2.205196e+05    185224.811567  \n",
       "75%       2.500000   2991.750000   136.000000  2.887254e+05    200779.080460  \n",
       "max       7.000000  11752.000000  1207.000000  1.724567e+06    239948.501672  \n",
       "\n",
       "[8 rows x 48 columns]"
      ]
     },
     "execution_count": 19,
     "metadata": {},
     "output_type": "execute_result"
    }
   ],
   "source": [
    "df.describe()"
   ]
  },
  {
   "cell_type": "markdown",
   "id": "d9fcf4f8",
   "metadata": {
    "papermill": {
     "duration": 0.05529,
     "end_time": "2022-05-28T09:12:44.619617",
     "exception": false,
     "start_time": "2022-05-28T09:12:44.564327",
     "status": "completed"
    },
    "tags": []
   },
   "source": [
    "**OneHotEncode categorical features**"
   ]
  },
  {
   "cell_type": "code",
   "execution_count": 20,
   "id": "eadfa2e2",
   "metadata": {
    "execution": {
     "iopub.execute_input": "2022-05-28T09:12:44.734002Z",
     "iopub.status.busy": "2022-05-28T09:12:44.733366Z",
     "iopub.status.idle": "2022-05-28T09:12:44.739348Z",
     "shell.execute_reply": "2022-05-28T09:12:44.739840Z",
     "shell.execute_reply.started": "2022-05-28T09:10:51.566281Z"
    },
    "papermill": {
     "duration": 0.064743,
     "end_time": "2022-05-28T09:12:44.740046",
     "exception": false,
     "start_time": "2022-05-28T09:12:44.675303",
     "status": "completed"
    },
    "tags": []
   },
   "outputs": [
    {
     "data": {
      "text/plain": [
       "['MSZoning',\n",
       " 'RoofMatl',\n",
       " 'CentralAir',\n",
       " 'Utilities',\n",
       " 'Heating',\n",
       " 'Street',\n",
       " 'HeatingQC',\n",
       " 'SaleType',\n",
       " 'SaleCondition',\n",
       " 'Electrical',\n",
       " 'Foundation',\n",
       " 'LotShape']"
      ]
     },
     "execution_count": 20,
     "metadata": {},
     "output_type": "execute_result"
    }
   ],
   "source": [
    "add_features"
   ]
  },
  {
   "cell_type": "code",
   "execution_count": 21,
   "id": "633af1e7",
   "metadata": {
    "execution": {
     "iopub.execute_input": "2022-05-28T09:12:44.852797Z",
     "iopub.status.busy": "2022-05-28T09:12:44.852165Z",
     "iopub.status.idle": "2022-05-28T09:12:44.857256Z",
     "shell.execute_reply": "2022-05-28T09:12:44.857836Z",
     "shell.execute_reply.started": "2022-05-28T09:10:51.706152Z"
    },
    "papermill": {
     "duration": 0.063206,
     "end_time": "2022-05-28T09:12:44.858013",
     "exception": false,
     "start_time": "2022-05-28T09:12:44.794807",
     "status": "completed"
    },
    "tags": []
   },
   "outputs": [
    {
     "data": {
      "text/plain": [
       "Index(['LotShape', 'Foundation', 'Electrical', 'SaleCondition', 'SaleType',\n",
       "       'HeatingQC', 'Street', 'Heating', 'Utilities', 'CentralAir', 'RoofMatl',\n",
       "       'MSZoning', 'MSSubClassPrice', 'PriceEst', 'PorchSF', 'TotalBath', 'Id',\n",
       "       'LotFrontage', 'LotArea', 'OverallQual', 'OverallCond', 'YearBuilt',\n",
       "       'YearRemodAdd', 'LowQualFinSF', 'GrLivArea', 'BedroomAbvGr',\n",
       "       'KitchenAbvGr', 'TotRmsAbvGrd', 'Fireplaces', 'GarageYrBlt',\n",
       "       'GarageArea', 'WoodDeckSF', 'PoolArea', 'MoSold', 'YrSold', 'SalePrice',\n",
       "       'NPrice', 'NSF', 'NLA', 'NPrice/SF'],\n",
       "      dtype='object')"
      ]
     },
     "execution_count": 21,
     "metadata": {},
     "output_type": "execute_result"
    }
   ],
   "source": [
    "features"
   ]
  },
  {
   "cell_type": "code",
   "execution_count": 22,
   "id": "52943321",
   "metadata": {
    "execution": {
     "iopub.execute_input": "2022-05-28T09:12:44.970793Z",
     "iopub.status.busy": "2022-05-28T09:12:44.970202Z",
     "iopub.status.idle": "2022-05-28T09:12:44.993846Z",
     "shell.execute_reply": "2022-05-28T09:12:44.994401Z",
     "shell.execute_reply.started": "2022-05-28T09:10:51.877905Z"
    },
    "papermill": {
     "duration": 0.081872,
     "end_time": "2022-05-28T09:12:44.994567",
     "exception": false,
     "start_time": "2022-05-28T09:12:44.912695",
     "status": "completed"
    },
    "tags": []
   },
   "outputs": [],
   "source": [
    "df = pd.get_dummies(df[features], columns=add_features, drop_first=True)"
   ]
  },
  {
   "cell_type": "markdown",
   "id": "9493877c",
   "metadata": {
    "papermill": {
     "duration": 0.054672,
     "end_time": "2022-05-28T09:12:45.104116",
     "exception": false,
     "start_time": "2022-05-28T09:12:45.049444",
     "status": "completed"
    },
    "tags": []
   },
   "source": [
    "Check which featues still have missing values"
   ]
  },
  {
   "cell_type": "code",
   "execution_count": 23,
   "id": "532d6500",
   "metadata": {
    "execution": {
     "iopub.execute_input": "2022-05-28T09:12:45.217917Z",
     "iopub.status.busy": "2022-05-28T09:12:45.217342Z",
     "iopub.status.idle": "2022-05-28T09:12:45.229739Z",
     "shell.execute_reply": "2022-05-28T09:12:45.230309Z",
     "shell.execute_reply.started": "2022-05-28T09:10:52.169784Z"
    },
    "papermill": {
     "duration": 0.07105,
     "end_time": "2022-05-28T09:12:45.230477",
     "exception": false,
     "start_time": "2022-05-28T09:12:45.159427",
     "status": "completed"
    },
    "tags": []
   },
   "outputs": [
    {
     "name": "stdout",
     "output_type": "stream",
     "text": [
      "MSSubClassPrice       1\n",
      "PriceEst              1\n",
      "SalePrice          1459\n",
      "dtype: int64\n"
     ]
    }
   ],
   "source": [
    "missing_val_count_by_column = (df.isnull().sum())\n",
    "print(missing_val_count_by_column[missing_val_count_by_column > 0])"
   ]
  },
  {
   "cell_type": "code",
   "execution_count": 24,
   "id": "b71e9a34",
   "metadata": {
    "execution": {
     "iopub.execute_input": "2022-05-28T09:12:45.347864Z",
     "iopub.status.busy": "2022-05-28T09:12:45.347244Z",
     "iopub.status.idle": "2022-05-28T09:12:45.353426Z",
     "shell.execute_reply": "2022-05-28T09:12:45.352835Z",
     "shell.execute_reply.started": "2022-05-28T09:10:52.480782Z"
    },
    "papermill": {
     "duration": 0.0659,
     "end_time": "2022-05-28T09:12:45.353564",
     "exception": false,
     "start_time": "2022-05-28T09:12:45.287664",
     "status": "completed"
    },
    "tags": []
   },
   "outputs": [],
   "source": [
    "df['PriceEst'] = df['PriceEst'].fillna(df['PriceEst'].median())\n",
    "df['MSSubClassPrice'] = df['MSSubClassPrice'].fillna(df['PriceEst'].median())"
   ]
  },
  {
   "cell_type": "markdown",
   "id": "98363302",
   "metadata": {
    "papermill": {
     "duration": 0.055811,
     "end_time": "2022-05-28T09:12:45.465790",
     "exception": false,
     "start_time": "2022-05-28T09:12:45.409979",
     "status": "completed"
    },
    "tags": []
   },
   "source": [
    "**Split dataFrame df back to train and test set (competion set)**"
   ]
  },
  {
   "cell_type": "code",
   "execution_count": 25,
   "id": "93ac1985",
   "metadata": {
    "execution": {
     "iopub.execute_input": "2022-05-28T09:12:45.581356Z",
     "iopub.status.busy": "2022-05-28T09:12:45.580697Z",
     "iopub.status.idle": "2022-05-28T09:12:45.589999Z",
     "shell.execute_reply": "2022-05-28T09:12:45.590473Z",
     "shell.execute_reply.started": "2022-05-28T09:10:52.801049Z"
    },
    "papermill": {
     "duration": 0.069026,
     "end_time": "2022-05-28T09:12:45.590645",
     "exception": false,
     "start_time": "2022-05-28T09:12:45.521619",
     "status": "completed"
    },
    "tags": []
   },
   "outputs": [],
   "source": [
    "dtrain = df[df['SalePrice'].notna()]\n",
    "dtest = df[df['SalePrice'].isna()]"
   ]
  },
  {
   "cell_type": "code",
   "execution_count": 26,
   "id": "1dd00258",
   "metadata": {
    "execution": {
     "iopub.execute_input": "2022-05-28T09:12:45.709332Z",
     "iopub.status.busy": "2022-05-28T09:12:45.708670Z",
     "iopub.status.idle": "2022-05-28T09:12:45.720603Z",
     "shell.execute_reply": "2022-05-28T09:12:45.721150Z",
     "shell.execute_reply.started": "2022-05-28T09:10:53.178773Z"
    },
    "papermill": {
     "duration": 0.075238,
     "end_time": "2022-05-28T09:12:45.721315",
     "exception": false,
     "start_time": "2022-05-28T09:12:45.646077",
     "status": "completed"
    },
    "tags": []
   },
   "outputs": [],
   "source": [
    "##\n",
    "y_train = dtrain['SalePrice']\n",
    "train = dtrain.drop('SalePrice', axis=1)\n",
    "\n",
    "test = dtest.drop('SalePrice', axis=1)\n",
    "\n",
    "#Use StandardScalar to standartise features:\n",
    "scaler = StandardScaler()\n",
    "train = scaler.fit_transform(train)\n",
    "test = scaler.transform(test)"
   ]
  },
  {
   "cell_type": "markdown",
   "id": "43da9a2f",
   "metadata": {
    "papermill": {
     "duration": 0.055596,
     "end_time": "2022-05-28T09:12:45.833085",
     "exception": false,
     "start_time": "2022-05-28T09:12:45.777489",
     "status": "completed"
    },
    "tags": []
   },
   "source": [
    "To choose a good model and estimate its mean squared error split train data into training set and validation set:"
   ]
  },
  {
   "cell_type": "code",
   "execution_count": 27,
   "id": "4877dea2",
   "metadata": {
    "execution": {
     "iopub.execute_input": "2022-05-28T09:12:45.949756Z",
     "iopub.status.busy": "2022-05-28T09:12:45.949168Z",
     "iopub.status.idle": "2022-05-28T09:12:45.955087Z",
     "shell.execute_reply": "2022-05-28T09:12:45.954552Z",
     "shell.execute_reply.started": "2022-05-28T09:10:53.714215Z"
    },
    "papermill": {
     "duration": 0.06532,
     "end_time": "2022-05-28T09:12:45.955223",
     "exception": false,
     "start_time": "2022-05-28T09:12:45.889903",
     "status": "completed"
    },
    "tags": []
   },
   "outputs": [],
   "source": [
    "X_t, X_v, y_t, y_v = train_test_split(train, y_train, test_size=0.1, random_state=10)\n",
    "\n",
    "scorer1 = make_scorer(mean_squared_error)"
   ]
  },
  {
   "cell_type": "markdown",
   "id": "3dbb17e1",
   "metadata": {
    "papermill": {
     "duration": 0.055003,
     "end_time": "2022-05-28T09:12:46.065669",
     "exception": false,
     "start_time": "2022-05-28T09:12:46.010666",
     "status": "completed"
    },
    "tags": []
   },
   "source": [
    "**Build model**"
   ]
  },
  {
   "cell_type": "code",
   "execution_count": 28,
   "id": "37613f64",
   "metadata": {
    "execution": {
     "iopub.execute_input": "2022-05-28T09:12:46.182024Z",
     "iopub.status.busy": "2022-05-28T09:12:46.180467Z",
     "iopub.status.idle": "2022-05-28T09:12:46.184427Z",
     "shell.execute_reply": "2022-05-28T09:12:46.184942Z",
     "shell.execute_reply.started": "2022-05-28T09:10:54.402536Z"
    },
    "papermill": {
     "duration": 0.06398,
     "end_time": "2022-05-28T09:12:46.185142",
     "exception": false,
     "start_time": "2022-05-28T09:12:46.121162",
     "status": "completed"
    },
    "tags": []
   },
   "outputs": [],
   "source": [
    "#from sklearn.model_selection import RandomizedSearchCV, GridSearchCV"
   ]
  },
  {
   "cell_type": "code",
   "execution_count": 29,
   "id": "5ba86e5e",
   "metadata": {
    "execution": {
     "iopub.execute_input": "2022-05-28T09:12:46.299085Z",
     "iopub.status.busy": "2022-05-28T09:12:46.298482Z",
     "iopub.status.idle": "2022-05-28T09:12:46.301766Z",
     "shell.execute_reply": "2022-05-28T09:12:46.302341Z",
     "shell.execute_reply.started": "2022-05-28T09:10:55.030474Z"
    },
    "papermill": {
     "duration": 0.061453,
     "end_time": "2022-05-28T09:12:46.302488",
     "exception": false,
     "start_time": "2022-05-28T09:12:46.241035",
     "status": "completed"
    },
    "tags": []
   },
   "outputs": [],
   "source": [
    "#rscv = RandomizedSearchCV(\n",
    " #           estimator=XGBRegressor(),\n",
    "  #          param_distributions={\"learning_rate\": (0.01, 0.05, 0.1),\n",
    "   #                     \"max_depth\": [4, 8, 12],\n",
    "    #                    \"min_child_weight\": [1, 3, 5],\n",
    "     #                   \"gamma\":[ 0.0, 0.1, 0.2],\n",
    "      #                 \"n_estimators\":[100]},\n",
    "       #     cv=3, n_iter=20, random_state=10,scoring='neg_mean_squared_error', verbose=1, n_jobs=-1)\n",
    "\n",
    "#rscv.fit(X_t, y_t)\n",
    "#print(rscv.best_params_)\n",
    "#print(-1*np.sqrt(rscv.best_score_))"
   ]
  },
  {
   "cell_type": "code",
   "execution_count": 30,
   "id": "23865fde",
   "metadata": {
    "execution": {
     "iopub.execute_input": "2022-05-28T09:12:46.416073Z",
     "iopub.status.busy": "2022-05-28T09:12:46.415470Z",
     "iopub.status.idle": "2022-05-28T09:12:46.418577Z",
     "shell.execute_reply": "2022-05-28T09:12:46.419157Z",
     "shell.execute_reply.started": "2022-05-28T09:10:55.686024Z"
    },
    "papermill": {
     "duration": 0.061583,
     "end_time": "2022-05-28T09:12:46.419292",
     "exception": false,
     "start_time": "2022-05-28T09:12:46.357709",
     "status": "completed"
    },
    "tags": []
   },
   "outputs": [],
   "source": [
    "#gscv = GridSearchCV(\n",
    " #           estimator=XGBRegressor(),\n",
    "  #          param_grid={\"learning_rate\": [0.1],\n",
    "   #                     \"max_depth\": [4],\n",
    "    #                    \"min_child_weight\": [5],\n",
    "     #                   \"gamma\":[0.1],\n",
    "      #                  #\"colsample_bytree\":[ 0.3, 0.4],\n",
    "       #                \"n_estimators\":[1000, 2000]},\n",
    "        #    cv=3, scoring='neg_mean_squared_error', verbose=1, n_jobs=-1)\n",
    "\n",
    "#grid_result = gscv.fit(X_t, y_t)"
   ]
  },
  {
   "cell_type": "code",
   "execution_count": 31,
   "id": "2a93bbfb",
   "metadata": {
    "execution": {
     "iopub.execute_input": "2022-05-28T09:12:46.533484Z",
     "iopub.status.busy": "2022-05-28T09:12:46.532892Z",
     "iopub.status.idle": "2022-05-28T09:12:46.535938Z",
     "shell.execute_reply": "2022-05-28T09:12:46.536503Z",
     "shell.execute_reply.started": "2022-05-28T09:10:56.179106Z"
    },
    "papermill": {
     "duration": 0.061878,
     "end_time": "2022-05-28T09:12:46.536633",
     "exception": false,
     "start_time": "2022-05-28T09:12:46.474755",
     "status": "completed"
    },
    "tags": []
   },
   "outputs": [],
   "source": [
    "#print(-1*grid_result.best_score_)\n",
    "#print(grid_result.best_params_)"
   ]
  },
  {
   "cell_type": "code",
   "execution_count": 32,
   "id": "668da800",
   "metadata": {
    "execution": {
     "iopub.execute_input": "2022-05-28T09:12:46.654839Z",
     "iopub.status.busy": "2022-05-28T09:12:46.650378Z",
     "iopub.status.idle": "2022-05-28T09:13:12.029168Z",
     "shell.execute_reply": "2022-05-28T09:13:12.029694Z",
     "shell.execute_reply.started": "2022-05-28T09:10:56.783091Z"
    },
    "papermill": {
     "duration": 25.437799,
     "end_time": "2022-05-28T09:13:12.029895",
     "exception": false,
     "start_time": "2022-05-28T09:12:46.592096",
     "status": "completed"
    },
    "tags": []
   },
   "outputs": [
    {
     "name": "stdout",
     "output_type": "stream",
     "text": [
      "29173.108821717637\n",
      "22063.168905650487\n"
     ]
    }
   ],
   "source": [
    "mod = XGBRegressor(n_estimators=1000, max_depth=4, objective='reg:squarederror', gamma=10, learning_rate=0.1)\n",
    "\n",
    "#get cross validation score of model\n",
    "score = cross_val_score(mod, X_t, y_t, cv=5, scoring=scorer1)\n",
    "print(np.mean(np.sqrt(score)))\n",
    "\n",
    "#get score on validation set\n",
    "mod.fit(X_t, y_t)\n",
    "print(np.sqrt(scorer1(mod, X_v, y_v)))"
   ]
  },
  {
   "cell_type": "markdown",
   "id": "eb60face",
   "metadata": {
    "papermill": {
     "duration": 0.056708,
     "end_time": "2022-05-28T09:13:12.143939",
     "exception": false,
     "start_time": "2022-05-28T09:13:12.087231",
     "status": "completed"
    },
    "tags": []
   },
   "source": [
    "**Train final model on full train data**"
   ]
  },
  {
   "cell_type": "code",
   "execution_count": 33,
   "id": "3ae52972",
   "metadata": {
    "execution": {
     "iopub.execute_input": "2022-05-28T09:13:12.260317Z",
     "iopub.status.busy": "2022-05-28T09:13:12.259658Z",
     "iopub.status.idle": "2022-05-28T09:13:12.263852Z",
     "shell.execute_reply": "2022-05-28T09:13:12.264375Z",
     "shell.execute_reply.started": "2022-05-28T09:11:29.282910Z"
    },
    "papermill": {
     "duration": 0.063869,
     "end_time": "2022-05-28T09:13:12.264542",
     "exception": false,
     "start_time": "2022-05-28T09:13:12.200673",
     "status": "completed"
    },
    "tags": []
   },
   "outputs": [],
   "source": [
    "X = np.concatenate((X_t, X_v), axis=0)\n",
    "y = np.concatenate((y_t, y_v), axis=0)"
   ]
  },
  {
   "cell_type": "code",
   "execution_count": 34,
   "id": "237f5820",
   "metadata": {
    "execution": {
     "iopub.execute_input": "2022-05-28T09:13:12.381294Z",
     "iopub.status.busy": "2022-05-28T09:13:12.380645Z",
     "iopub.status.idle": "2022-05-28T09:13:12.385139Z",
     "shell.execute_reply": "2022-05-28T09:13:12.385668Z",
     "shell.execute_reply.started": "2022-05-28T09:11:29.290263Z"
    },
    "papermill": {
     "duration": 0.064724,
     "end_time": "2022-05-28T09:13:12.385827",
     "exception": false,
     "start_time": "2022-05-28T09:13:12.321103",
     "status": "completed"
    },
    "tags": []
   },
   "outputs": [
    {
     "data": {
      "text/plain": [
       "(1460, 75)"
      ]
     },
     "execution_count": 34,
     "metadata": {},
     "output_type": "execute_result"
    }
   ],
   "source": [
    "X.shape"
   ]
  },
  {
   "cell_type": "code",
   "execution_count": 35,
   "id": "c6d4fdb0",
   "metadata": {
    "execution": {
     "iopub.execute_input": "2022-05-28T09:13:12.502790Z",
     "iopub.status.busy": "2022-05-28T09:13:12.502173Z",
     "iopub.status.idle": "2022-05-28T09:13:17.427391Z",
     "shell.execute_reply": "2022-05-28T09:13:17.428115Z",
     "shell.execute_reply.started": "2022-05-28T09:11:29.308058Z"
    },
    "papermill": {
     "duration": 4.985772,
     "end_time": "2022-05-28T09:13:17.428324",
     "exception": false,
     "start_time": "2022-05-28T09:13:12.442552",
     "status": "completed"
    },
    "tags": []
   },
   "outputs": [
    {
     "name": "stdout",
     "output_type": "stream",
     "text": [
      "1592.4579466291914\n"
     ]
    }
   ],
   "source": [
    "xgb = XGBRegressor(n_estimators=1000, max_depth=4, objective='reg:squarederror', gamma=10, learning_rate=0.1)\n",
    "xgb.fit(X, y)\n",
    "\n",
    "print(np.sqrt(scorer1(xgb, X, y)))"
   ]
  },
  {
   "cell_type": "markdown",
   "id": "11bfa558",
   "metadata": {
    "papermill": {
     "duration": 0.058099,
     "end_time": "2022-05-28T09:13:17.548535",
     "exception": false,
     "start_time": "2022-05-28T09:13:17.490436",
     "status": "completed"
    },
    "tags": []
   },
   "source": [
    "**Predict test data for competition and save results**"
   ]
  },
  {
   "cell_type": "code",
   "execution_count": 36,
   "id": "f5e5009f",
   "metadata": {
    "execution": {
     "iopub.execute_input": "2022-05-28T09:13:17.672417Z",
     "iopub.status.busy": "2022-05-28T09:13:17.671707Z",
     "iopub.status.idle": "2022-05-28T09:13:17.691093Z",
     "shell.execute_reply": "2022-05-28T09:13:17.691885Z",
     "shell.execute_reply.started": "2022-05-28T09:11:34.958555Z"
    },
    "papermill": {
     "duration": 0.084077,
     "end_time": "2022-05-28T09:13:17.692177",
     "exception": false,
     "start_time": "2022-05-28T09:13:17.608100",
     "status": "completed"
    },
    "tags": []
   },
   "outputs": [],
   "source": [
    "predictions = xgb.predict(test)"
   ]
  },
  {
   "cell_type": "code",
   "execution_count": 37,
   "id": "139a7fc2",
   "metadata": {
    "execution": {
     "iopub.execute_input": "2022-05-28T09:13:17.819484Z",
     "iopub.status.busy": "2022-05-28T09:13:17.818808Z",
     "iopub.status.idle": "2022-05-28T09:13:17.829081Z",
     "shell.execute_reply": "2022-05-28T09:13:17.828543Z",
     "shell.execute_reply.started": "2022-05-28T09:11:34.978459Z"
    },
    "papermill": {
     "duration": 0.075649,
     "end_time": "2022-05-28T09:13:17.829220",
     "exception": false,
     "start_time": "2022-05-28T09:13:17.753571",
     "status": "completed"
    },
    "tags": []
   },
   "outputs": [],
   "source": [
    "output = pd.DataFrame({'Id': test_data.Id, 'SalePrice': predictions})\n",
    "output.to_csv('submission.csv', index=False)"
   ]
  },
  {
   "cell_type": "code",
   "execution_count": 38,
   "id": "88f21e67",
   "metadata": {
    "execution": {
     "iopub.execute_input": "2022-05-28T09:13:17.949076Z",
     "iopub.status.busy": "2022-05-28T09:13:17.948472Z",
     "iopub.status.idle": "2022-05-28T09:13:17.959000Z",
     "shell.execute_reply": "2022-05-28T09:13:17.959593Z",
     "shell.execute_reply.started": "2022-05-28T09:11:34.991383Z"
    },
    "papermill": {
     "duration": 0.073367,
     "end_time": "2022-05-28T09:13:17.959752",
     "exception": false,
     "start_time": "2022-05-28T09:13:17.886385",
     "status": "completed"
    },
    "tags": []
   },
   "outputs": [
    {
     "data": {
      "text/html": [
       "<div>\n",
       "<style scoped>\n",
       "    .dataframe tbody tr th:only-of-type {\n",
       "        vertical-align: middle;\n",
       "    }\n",
       "\n",
       "    .dataframe tbody tr th {\n",
       "        vertical-align: top;\n",
       "    }\n",
       "\n",
       "    .dataframe thead th {\n",
       "        text-align: right;\n",
       "    }\n",
       "</style>\n",
       "<table border=\"1\" class=\"dataframe\">\n",
       "  <thead>\n",
       "    <tr style=\"text-align: right;\">\n",
       "      <th></th>\n",
       "      <th>Id</th>\n",
       "      <th>SalePrice</th>\n",
       "    </tr>\n",
       "  </thead>\n",
       "  <tbody>\n",
       "    <tr>\n",
       "      <th>0</th>\n",
       "      <td>1461</td>\n",
       "      <td>136163.703125</td>\n",
       "    </tr>\n",
       "    <tr>\n",
       "      <th>1</th>\n",
       "      <td>1462</td>\n",
       "      <td>166444.953125</td>\n",
       "    </tr>\n",
       "    <tr>\n",
       "      <th>2</th>\n",
       "      <td>1463</td>\n",
       "      <td>170419.890625</td>\n",
       "    </tr>\n",
       "    <tr>\n",
       "      <th>3</th>\n",
       "      <td>1464</td>\n",
       "      <td>192444.765625</td>\n",
       "    </tr>\n",
       "    <tr>\n",
       "      <th>4</th>\n",
       "      <td>1465</td>\n",
       "      <td>176026.187500</td>\n",
       "    </tr>\n",
       "    <tr>\n",
       "      <th>...</th>\n",
       "      <td>...</td>\n",
       "      <td>...</td>\n",
       "    </tr>\n",
       "    <tr>\n",
       "      <th>1454</th>\n",
       "      <td>2915</td>\n",
       "      <td>88623.507812</td>\n",
       "    </tr>\n",
       "    <tr>\n",
       "      <th>1455</th>\n",
       "      <td>2916</td>\n",
       "      <td>87193.328125</td>\n",
       "    </tr>\n",
       "    <tr>\n",
       "      <th>1456</th>\n",
       "      <td>2917</td>\n",
       "      <td>131975.296875</td>\n",
       "    </tr>\n",
       "    <tr>\n",
       "      <th>1457</th>\n",
       "      <td>2918</td>\n",
       "      <td>120071.640625</td>\n",
       "    </tr>\n",
       "    <tr>\n",
       "      <th>1458</th>\n",
       "      <td>2919</td>\n",
       "      <td>184916.468750</td>\n",
       "    </tr>\n",
       "  </tbody>\n",
       "</table>\n",
       "<p>1459 rows × 2 columns</p>\n",
       "</div>"
      ],
      "text/plain": [
       "        Id      SalePrice\n",
       "0     1461  136163.703125\n",
       "1     1462  166444.953125\n",
       "2     1463  170419.890625\n",
       "3     1464  192444.765625\n",
       "4     1465  176026.187500\n",
       "...    ...            ...\n",
       "1454  2915   88623.507812\n",
       "1455  2916   87193.328125\n",
       "1456  2917  131975.296875\n",
       "1457  2918  120071.640625\n",
       "1458  2919  184916.468750\n",
       "\n",
       "[1459 rows x 2 columns]"
      ]
     },
     "execution_count": 38,
     "metadata": {},
     "output_type": "execute_result"
    }
   ],
   "source": [
    "output"
   ]
  },
  {
   "cell_type": "code",
   "execution_count": null,
   "id": "be586456",
   "metadata": {
    "papermill": {
     "duration": 0.060204,
     "end_time": "2022-05-28T09:13:18.078861",
     "exception": false,
     "start_time": "2022-05-28T09:13:18.018657",
     "status": "completed"
    },
    "tags": []
   },
   "outputs": [],
   "source": []
  }
 ],
 "metadata": {
  "kernelspec": {
   "display_name": "Python 3",
   "language": "python",
   "name": "python3"
  },
  "language_info": {
   "codemirror_mode": {
    "name": "ipython",
    "version": 3
   },
   "file_extension": ".py",
   "mimetype": "text/x-python",
   "name": "python",
   "nbconvert_exporter": "python",
   "pygments_lexer": "ipython3",
   "version": "3.7.12"
  },
  "papermill": {
   "default_parameters": {},
   "duration": 46.929705,
   "end_time": "2022-05-28T09:13:18.949434",
   "environment_variables": {},
   "exception": null,
   "input_path": "__notebook__.ipynb",
   "output_path": "__notebook__.ipynb",
   "parameters": {},
   "start_time": "2022-05-28T09:12:32.019729",
   "version": "2.3.3"
  }
 },
 "nbformat": 4,
 "nbformat_minor": 5
}
